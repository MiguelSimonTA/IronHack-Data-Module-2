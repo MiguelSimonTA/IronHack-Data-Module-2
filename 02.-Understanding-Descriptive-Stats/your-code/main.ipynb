{
 "cells": [
  {
   "cell_type": "markdown",
   "metadata": {},
   "source": [
    "## Challenge 1\n",
    "* Do a function to simulate a rolling dice 10 times and save the information in a dataframe.\n",
    "* Plot the values sorted by value.\n",
    "* Calculate the frequency distribution and plot it. What is the relation between this plot and the other one? Describe it with words."
   ]
  },
  {
   "cell_type": "code",
   "execution_count": 1,
   "metadata": {},
   "outputs": [],
   "source": [
    "import random;\n",
    "import pandas as pd;\n",
    "import matplotlib.pyplot as plt;"
   ]
  },
  {
   "cell_type": "code",
   "execution_count": 2,
   "metadata": {},
   "outputs": [],
   "source": [
    "# Variables.\n",
    "times = 10;\n",
    "\n",
    "# Find the result of rolling a dice 10 times and store it in a dataframe.\n",
    "def roll_the_dice():\n",
    "    return pd.DataFrame(random.choices(range(1,7), k=times), columns=['Value'], index=range(1, times+1));\n",
    "\n",
    "# Sort the values.\n",
    "dice_results = roll_the_dice();\n",
    "sorted_dice_results = dice_results.sort_values('Value');"
   ]
  },
  {
   "cell_type": "code",
   "execution_count": 3,
   "metadata": {},
   "outputs": [
    {
     "data": {
      "image/png": "[encoded data removed]",
      "text/plain": [
       "<Figure size 432x288 with 1 Axes>"
      ]
     },
     "metadata": {
      "needs_background": "light"
     },
     "output_type": "display_data"
    }
   ],
   "source": [
    "# Plot the sorted values.\n",
    "sorted_dice_results[['Value']].plot(kind='bar', legend=None, rot=0);\n",
    "plt.xlabel('Throw');\n",
    "plt.ylabel('Dice Value');\n",
    "plt.title('Dice value for each throw');\n",
    "plt.show();"
   ]
  },
  {
   "cell_type": "code",
   "execution_count": 4,
   "metadata": {},
   "outputs": [
    {
     "data": {
      "image/png": "[encoded data removed]",
      "text/plain": [
       "<Figure size 432x288 with 1 Axes>"
      ]
     },
     "metadata": {
      "needs_background": "light"
     },
     "output_type": "display_data"
    }
   ],
   "source": [
    "# Calculate the frequency distribution.\n",
    "bins = [n + 0.5 for n in range(0,7)];\n",
    "dice_results.hist(bins=bins, grid=False);\n",
    "plt.xlabel('Dice Value');\n",
    "plt.ylabel('Value Count');\n",
    "plt.title('Histogram');\n",
    "\n",
    "# Show the plot.\n",
    "plt.show();"
   ]
  },
  {
   "cell_type": "markdown",
   "metadata": {},
   "source": [
    "`Comments:`\n",
    "\n",
    "Both plots shows how many times a number has been rolled. From both plots we can see that number 1 only showed 1 times, number 2 showed 3 times, etc."
   ]
  },
  {
   "cell_type": "markdown",
   "metadata": {},
   "source": [
    "## Challenge 2\n",
    "With the results of your dice of the challenge 1, define some functions to calculate the mean in two ways:\n",
    "* Summing all the observations separately (no method allowed!)\n",
    "* Calculate first the frequency distribution and then the mean with the values of the distribution (no other methods allowed!)\n",
    "* Define a function to calculate the median. No method allowed!\n",
    "**Hint**: depending on the number of observations you need to define two cases.\n",
    "* Using your last function, use it to define a function that will calculate the four quartiles."
   ]
  },
  {
   "cell_type": "code",
   "execution_count": 5,
   "metadata": {},
   "outputs": [],
   "source": [
    "def reset_df_indexes(df):\n",
    "    df = df.reset_index(drop=True)\n",
    "    df.index = range(1,len(df)+1)\n",
    "    return df\n",
    "\n",
    "def mean_calculation_method_one(df):\n",
    "    return df['Value'].sum() / len(df['Value'])\n",
    "\n",
    "def mean_calculation_method_two(df):\n",
    "    frequency = df['Value'].value_counts().values\n",
    "    dice_value = df['Value'].value_counts().index\n",
    "    return sum(dice_value * frequency) / len(df['Value'])\n",
    "\n",
    "def median_calculation(df):\n",
    "    if len(df['Value']) % 2 == 0:\n",
    "        return (df['Value'][len(df) // 2] + df['Value'][(len(df) // 2)+1]) / 2\n",
    "    else:\n",
    "        return float(df['Value'][(len(df) // 2)+1])\n",
    "\n",
    "def quartiles_calculation(df):\n",
    "    Q2 = median_calculation(df)\n",
    "    lower_df = df[df['Value'] < Q2]\n",
    "    upper_df = df[df['Value'] > Q2]\n",
    "    upper_df = reset_df_indexes(upper_df)\n",
    "    Q1 = median_calculation(lower_df)\n",
    "    Q3 = median_calculation(upper_df)\n",
    "    return Q1,Q2,Q3"
   ]
  },
  {
   "cell_type": "code",
   "execution_count": 6,
   "metadata": {},
   "outputs": [
    {
     "name": "stdout",
     "output_type": "stream",
     "text": [
      "The event was: \n",
      "\n",
      "     Value\n",
      "1       1\n",
      "2       2\n",
      "3       2\n",
      "4       3\n",
      "5       3\n",
      "6       4\n",
      "7       5\n",
      "8       6\n",
      "9       6\n",
      "10      6\n",
      "\n",
      "Mean Method 1: 3.8\n",
      "Mean Method 2: 3.8\n",
      "Median: 3.5\n",
      "Quartiles: Q1-2.0 Q2-3.5 Q3-6.0\n"
     ]
    }
   ],
   "source": [
    "sorted_dice_results = reset_df_indexes(sorted_dice_results)\n",
    "Q1, Q2, Q3 = quartiles_calculation(sorted_dice_results)\n",
    "\n",
    "print('The event was: \\n\\n {}\\n'.format(sorted_dice_results))\n",
    "print('Mean Method 1: {}'.format(mean_calculation_method_one(dice_results)))\n",
    "print('Mean Method 2: {}'.format(mean_calculation_method_two(dice_results)))\n",
    "print('Median: {}'.format(median_calculation(sorted_dice_results)))\n",
    "print('Quartiles: Q1-{} Q2-{} Q3-{}'.format(Q1,Q2,Q3))"
   ]
  },
  {
   "cell_type": "markdown",
   "metadata": {},
   "source": [
    "## Challenge 3\n",
    "Read the csv `roll_the_dice_hundred.csv`\n",
    "* Plot the values sorted. What do you see?\n",
    "* With the functions you defined in the challenge 2, calculate the mean of the rollings.\n",
    "* Calculate the frequency distribution.\n",
    "* Plot the histogram as we did during the lesson. What do you see? (shape, values...) how could you connect the value of the mean to the plot you see? \n",
    "* Now read the `roll_the_dice_thousand.csv` and plot the frequency distribution in the same way you did it before.\n",
    "What has changed? Why do you think it is changing?"
   ]
  },
  {
   "cell_type": "code",
   "execution_count": 7,
   "metadata": {},
   "outputs": [
    {
     "data": {
      "image/png": "[encoded data removed]",
      "text/plain": [
       "<Figure size 432x288 with 1 Axes>"
      ]
     },
     "metadata": {
      "needs_background": "light"
     },
     "output_type": "display_data"
    }
   ],
   "source": [
    "# Read the csv.\n",
    "roll_the_dice_hundred = pd.read_csv('data/roll_the_dice_hundred.csv', index_col=0)\n",
    "roll_the_dice_hundred.columns = ['Roll', 'Value']\n",
    "\n",
    "# Sort the values.\n",
    "sorted_roll_the_dice_hundred = roll_the_dice_hundred.sort_values('Value')\n",
    "\n",
    "# Plot the sorted values.\n",
    "sorted_roll_the_dice_hundred[['Value']].plot(kind='bar', legend=None, rot=0)\n",
    "plt.xticks([])\n",
    "plt.ylabel('Dice Value')\n",
    "plt.title('Dice value for each throw')\n",
    "plt.show()"
   ]
  },
  {
   "cell_type": "markdown",
   "metadata": {},
   "source": [
    "`Comments:`\n",
    "\n",
    "We can see if a number was rolled more times than another one. For example, we can see than number 1 showed less times than number 6. "
   ]
  },
  {
   "cell_type": "code",
   "execution_count": 8,
   "metadata": {},
   "outputs": [
    {
     "name": "stdout",
     "output_type": "stream",
     "text": [
      "Mean Method 1: 3.74\n",
      "Mean Method 2: 3.74\n"
     ]
    }
   ],
   "source": [
    "print('Mean Method 1: {}'.format(mean_calculation_method_one(roll_the_dice_hundred)))\n",
    "print('Mean Method 2: {}'.format(mean_calculation_method_two(roll_the_dice_hundred)))"
   ]
  },
  {
   "cell_type": "code",
   "execution_count": 9,
   "metadata": {},
   "outputs": [
    {
     "data": {
      "image/png": "[encoded data removed]",
      "text/plain": [
       "<Figure size 432x288 with 1 Axes>"
      ]
     },
     "metadata": {
      "needs_background": "light"
     },
     "output_type": "display_data"
    },
    {
     "data": {
      "text/plain": [
       "1    12\n",
       "2    17\n",
       "3    14\n",
       "4    22\n",
       "5    12\n",
       "6    23\n",
       "Name: Value, dtype: int64"
      ]
     },
     "execution_count": 9,
     "metadata": {},
     "output_type": "execute_result"
    }
   ],
   "source": [
    "# Calculate the frequency distribution.\n",
    "frequency = roll_the_dice_hundred['Value'].value_counts(sort=False)\n",
    "\n",
    "# Histogram.\n",
    "bins = [n + 0.5 for n in range(0,7)]\n",
    "roll_the_dice_hundred['Value'].hist(bins=bins, grid=False)\n",
    "plt.xlabel('Dice Value')\n",
    "plt.ylabel('Value Count')\n",
    "plt.title('Histogram')\n",
    "\n",
    "# Show the plot.\n",
    "plt.show()\n",
    "frequency"
   ]
  },
  {
   "cell_type": "markdown",
   "metadata": {},
   "source": [
    "`Comments:`\n",
    "\n",
    "We know that the probability of each number is the same (1/6), so the frequency of each number should be similar and we should expect to see a uniform histogram. However, we can see that the numbers that showed most times are 4 and 6, and their frequency is significantly greater than the frequency of 1 and 5, which showed the least. That's why the mean value is greater than 3 (almost 4).  "
   ]
  },
  {
   "cell_type": "code",
   "execution_count": 10,
   "metadata": {},
   "outputs": [
    {
     "data": {
      "image/png": "[encoded data removed]",
      "text/plain": [
       "<Figure size 432x288 with 1 Axes>"
      ]
     },
     "metadata": {
      "needs_background": "light"
     },
     "output_type": "display_data"
    },
    {
     "data": {
      "text/plain": [
       "1    175\n",
       "2    167\n",
       "3    175\n",
       "4    168\n",
       "5    149\n",
       "6    166\n",
       "Name: Value, dtype: int64"
      ]
     },
     "execution_count": 10,
     "metadata": {},
     "output_type": "execute_result"
    }
   ],
   "source": [
    "# Read the csv.\n",
    "roll_the_dice_thousand = pd.read_csv('data/roll_the_dice_thousand.csv', index_col=0)\n",
    "roll_the_dice_thousand.columns = ['Roll', 'Value']\n",
    "\n",
    "# Calculate the frequency distribution.\n",
    "frequency = roll_the_dice_thousand['Value'].value_counts(sort=False)\n",
    "\n",
    "# Histogram\n",
    "bins = [n + 0.5 for n in range(0,7)]\n",
    "roll_the_dice_thousand['Value'].hist(bins=bins, grid=False)\n",
    "plt.xlabel('Dice Value')\n",
    "plt.ylabel('Value Count')\n",
    "plt.title('Histogram')\n",
    "\n",
    "# Show the plot.\n",
    "plt.show()\n",
    "frequency"
   ]
  },
  {
   "cell_type": "markdown",
   "metadata": {},
   "source": [
    "`Comments:`\n",
    "\n",
    "In this plot we can see that the distribution is now more uniform than before, which is the behaviour we were expecting because all numbers are equally probable. The histogram changed because now we have more samples of random dice rolls and the sample distribution tends to be more similar to the population distribution."
   ]
  },
  {
   "cell_type": "markdown",
   "metadata": {},
   "source": [
    "## Challenge 4\n",
    "In the `ages_population` files, we will find some information about a poll we did to a thousand people. Each file corresponds to a different neighbourhood.\n",
    " \n",
    "Read the csv `ages_population.csv`. Here you have a poll we did to people from here in Barcelona about their ages. You will find each observation in the csv.\n",
    "* Calculate the frequency distribution and plot it as we did during the lesson. Define a range for the mean and std with the eye.\n",
    "* Calculate the mean and the standard deviation and compare it with your range. Does it fit?\n",
    "* Now read the csv `ages_population2.csv` and calculate the frequency distribution and plot it.\n",
    "* What do you see? Is there any difference?\n",
    "* Calculate the mean and std and compare with the last one. What do you think?"
   ]
  },
  {
   "cell_type": "code",
   "execution_count": 11,
   "metadata": {},
   "outputs": [
    {
     "data": {
      "image/png": "[encoded data removed]",
      "text/plain": [
       "<Figure size 432x288 with 1 Axes>"
      ]
     },
     "metadata": {
      "needs_background": "light"
     },
     "output_type": "display_data"
    }
   ],
   "source": [
    "# Read the csv\n",
    "ages_population = pd.read_csv('data/ages_population.csv')\n",
    "ages_population = ages_population.sort_values(by='observation')\n",
    "\n",
    "# Calculate the frequency distribution.\n",
    "frequency = ages_population['observation'].value_counts(sort=False)\n",
    "\n",
    "# Histogram\n",
    "max_range = int(ages_population['observation'].max()) + 1\n",
    "min_range = int(ages_population['observation'].min())\n",
    "bins = [n + 0.5 for n in range(min_range,max_range)]\n",
    "ages_population['observation'].hist(bins=bins, grid=False)\n",
    "plt.xlabel('Age')\n",
    "plt.ylabel('Count')\n",
    "plt.title('Histogram')\n",
    "\n",
    "# Show the plot.\n",
    "plt.show()"
   ]
  },
  {
   "cell_type": "markdown",
   "metadata": {},
   "source": [
    "`Comments:`\n",
    "\n",
    "The mean should be around 35 years and the standard deviation, as we can see than the distribution is normal, should be 10."
   ]
  },
  {
   "cell_type": "code",
   "execution_count": 12,
   "metadata": {},
   "outputs": [
    {
     "data": {
      "text/plain": [
       "count    1000.0000\n",
       "mean       36.5600\n",
       "std        12.8165\n",
       "min         1.0000\n",
       "25%        28.0000\n",
       "50%        37.0000\n",
       "75%        45.0000\n",
       "max        82.0000\n",
       "Name: observation, dtype: float64"
      ]
     },
     "execution_count": 12,
     "metadata": {},
     "output_type": "execute_result"
    }
   ],
   "source": [
    "ages_population['observation'].describe()"
   ]
  },
  {
   "cell_type": "markdown",
   "metadata": {},
   "source": [
    "`Comments:`\n",
    "\n",
    "Yes, the exact results are similar to the ones expected."
   ]
  },
  {
   "cell_type": "code",
   "execution_count": 13,
   "metadata": {},
   "outputs": [
    {
     "data": {
      "image/png": "[encoded data removed]",
      "text/plain": [
       "<Figure size 432x288 with 1 Axes>"
      ]
     },
     "metadata": {
      "needs_background": "light"
     },
     "output_type": "display_data"
    }
   ],
   "source": [
    "# Read the csv\n",
    "ages_population_2 = pd.read_csv('data/ages_population2.csv')\n",
    "ages_population_2 = ages_population_2.sort_values(by='observation')\n",
    "\n",
    "# Calculate the frequency distribution.\n",
    "frequency = ages_population_2['observation'].value_counts(sort=False)\n",
    "\n",
    "# Histogram\n",
    "max_range = int(ages_population_2['observation'].max()) + 1\n",
    "min_range = int(ages_population_2['observation'].min())\n",
    "bins = [n + 0.5 for n in range(min_range,max_range)]\n",
    "ages_population_2['observation'].hist(bins=bins, grid=False)\n",
    "plt.xlabel('Age')\n",
    "plt.ylabel('Count')\n",
    "plt.title('Histogram')\n",
    "\n",
    "# Show the plot.\n",
    "plt.show()"
   ]
  },
  {
   "cell_type": "markdown",
   "metadata": {},
   "source": [
    "`Comments:`\n",
    "\n",
    "It seems that this time we have a narrower range of ages. Now, the mean value should be around 27 and the standard deviation around 2. We can see that the people in this neighbourhood are younger compared to the first neighbourhood, where the range was wider and there was more middle-aged people. "
   ]
  },
  {
   "cell_type": "code",
   "execution_count": 14,
   "metadata": {},
   "outputs": [
    {
     "data": {
      "text/plain": [
       "count    1000.000000\n",
       "mean       27.155000\n",
       "std         2.969814\n",
       "min        19.000000\n",
       "25%        25.000000\n",
       "50%        27.000000\n",
       "75%        29.000000\n",
       "max        36.000000\n",
       "Name: observation, dtype: float64"
      ]
     },
     "execution_count": 14,
     "metadata": {},
     "output_type": "execute_result"
    }
   ],
   "source": [
    "ages_population_2['observation'].describe()"
   ]
  },
  {
   "cell_type": "markdown",
   "metadata": {},
   "source": [
    "`Comments:`\n",
    "\n",
    "The exact results are similar to the ones expected."
   ]
  },
  {
   "cell_type": "markdown",
   "metadata": {},
   "source": [
    "## Challenge 5\n",
    "Now is the turn of `ages_population3.csv`.\n",
    "* Calculate the frequency distribution and plot it as we did during the lesson. \n",
    "* Calculate the mean and std and compare with the plot. What is happening?\n",
    "* Calculate the four quartiles and give some arguments for the last question using them. How much difference there is between median and mean?\n",
    "* Calculate some other percentiles that can be useful to give more arguments. "
   ]
  },
  {
   "cell_type": "code",
   "execution_count": 15,
   "metadata": {},
   "outputs": [
    {
     "data": {
      "image/png": "[encoded data removed]",
      "text/plain": [
       "<Figure size 432x288 with 1 Axes>"
      ]
     },
     "metadata": {
      "needs_background": "light"
     },
     "output_type": "display_data"
    }
   ],
   "source": [
    "# Read the csv\n",
    "ages_population_3 = pd.read_csv('data/ages_population3.csv')\n",
    "ages_population_3 = ages_population_3.sort_values(by='observation')\n",
    "\n",
    "# Calculate the frequency distribution.\n",
    "frequency = ages_population_3['observation'].value_counts(sort=False)\n",
    "\n",
    "# Histogram\n",
    "max_range = int(ages_population_3['observation'].max()) + 1\n",
    "min_range = int(ages_population_3['observation'].min())\n",
    "bins = [n + 0.5 for n in range(min_range,max_range)]\n",
    "ages_population_3['observation'].hist(bins=bins, grid=False)\n",
    "plt.xlabel('Age')\n",
    "plt.ylabel('Count')\n",
    "plt.title('Histogram')\n",
    "\n",
    "# Show the plot.\n",
    "plt.show()"
   ]
  },
  {
   "cell_type": "code",
   "execution_count": 16,
   "metadata": {},
   "outputs": [
    {
     "data": {
      "text/plain": [
       "count    1000.000000\n",
       "mean       41.989000\n",
       "std        16.144706\n",
       "min         1.000000\n",
       "25%        30.000000\n",
       "50%        40.000000\n",
       "75%        53.000000\n",
       "max        77.000000\n",
       "Name: observation, dtype: float64"
      ]
     },
     "execution_count": 16,
     "metadata": {},
     "output_type": "execute_result"
    }
   ],
   "source": [
    "ages_population_3['observation'].describe()"
   ]
  },
  {
   "cell_type": "code",
   "execution_count": 17,
   "metadata": {},
   "outputs": [
    {
     "data": {
      "text/plain": [
       "64.0"
      ]
     },
     "execution_count": 17,
     "metadata": {},
     "output_type": "execute_result"
    }
   ],
   "source": [
    "ages_population_3['observation'].quantile(0.85)"
   ]
  },
  {
   "cell_type": "markdown",
   "metadata": {},
   "source": [
    "`Comments:`\n",
    "\n",
    "We can see that the distribution is now formed by two normals. The first one is centered around 35 and is formed by a lot more samples than the second one, which is centered around 68 approximately. \n",
    "\n",
    "If we take a look at the quartiles, we can see that 75% of the samples have a value lower or equal to 53, which would be part of the first normal. So the second normal is formed by approximately the 25% of the total samples. If we check the 85% quantile, we can see that 15% of the samples are greater or equal than 64, which is the approximately the limit between both normals. So we can say that, more exactly, the first normal is formed by approximately 85% of the samples while the second is formed by 15% of the samples. \n",
    "\n",
    "The mean is higher than the median because it is more affected by the second normal. However, the median is lower because it is more robust to extreme values."
   ]
  },
  {
   "cell_type": "markdown",
   "metadata": {},
   "source": [
    "## Bonus challenge\n",
    "Take the information about the 3 neighbourhoods and compare them. Prepare a report about the three of them, about their similarities and their differences basing your arguments in the basic statistics."
   ]
  },
  {
   "cell_type": "code",
   "execution_count": 18,
   "metadata": {},
   "outputs": [
    {
     "data": {
      "text/html": [
       "<div>\n",
       "<style scoped>\n",
       "    .dataframe tbody tr th:only-of-type {\n",
       "        vertical-align: middle;\n",
       "    }\n",
       "\n",
       "    .dataframe tbody tr th {\n",
       "        vertical-align: top;\n",
       "    }\n",
       "\n",
       "    .dataframe thead th {\n",
       "        text-align: right;\n",
       "    }\n",
       "</style>\n",
       "<table border=\"1\" class=\"dataframe\">\n",
       "  <thead>\n",
       "    <tr style=\"text-align: right;\">\n",
       "      <th></th>\n",
       "      <th>df1</th>\n",
       "      <th>df2</th>\n",
       "      <th>df3</th>\n",
       "    </tr>\n",
       "  </thead>\n",
       "  <tbody>\n",
       "    <tr>\n",
       "      <th>count</th>\n",
       "      <td>1000.0000</td>\n",
       "      <td>1000.000000</td>\n",
       "      <td>1000.000000</td>\n",
       "    </tr>\n",
       "    <tr>\n",
       "      <th>mean</th>\n",
       "      <td>36.5600</td>\n",
       "      <td>27.155000</td>\n",
       "      <td>41.989000</td>\n",
       "    </tr>\n",
       "    <tr>\n",
       "      <th>std</th>\n",
       "      <td>12.8165</td>\n",
       "      <td>2.969814</td>\n",
       "      <td>16.144706</td>\n",
       "    </tr>\n",
       "    <tr>\n",
       "      <th>min</th>\n",
       "      <td>1.0000</td>\n",
       "      <td>19.000000</td>\n",
       "      <td>1.000000</td>\n",
       "    </tr>\n",
       "    <tr>\n",
       "      <th>25%</th>\n",
       "      <td>28.0000</td>\n",
       "      <td>25.000000</td>\n",
       "      <td>30.000000</td>\n",
       "    </tr>\n",
       "    <tr>\n",
       "      <th>50%</th>\n",
       "      <td>37.0000</td>\n",
       "      <td>27.000000</td>\n",
       "      <td>40.000000</td>\n",
       "    </tr>\n",
       "    <tr>\n",
       "      <th>75%</th>\n",
       "      <td>45.0000</td>\n",
       "      <td>29.000000</td>\n",
       "      <td>53.000000</td>\n",
       "    </tr>\n",
       "    <tr>\n",
       "      <th>max</th>\n",
       "      <td>82.0000</td>\n",
       "      <td>36.000000</td>\n",
       "      <td>77.000000</td>\n",
       "    </tr>\n",
       "  </tbody>\n",
       "</table>\n",
       "</div>"
      ],
      "text/plain": [
       "             df1          df2          df3\n",
       "count  1000.0000  1000.000000  1000.000000\n",
       "mean     36.5600    27.155000    41.989000\n",
       "std      12.8165     2.969814    16.144706\n",
       "min       1.0000    19.000000     1.000000\n",
       "25%      28.0000    25.000000    30.000000\n",
       "50%      37.0000    27.000000    40.000000\n",
       "75%      45.0000    29.000000    53.000000\n",
       "max      82.0000    36.000000    77.000000"
      ]
     },
     "execution_count": 18,
     "metadata": {},
     "output_type": "execute_result"
    }
   ],
   "source": [
    "sumamry_df = pd.concat([ages_population['observation'], \n",
    "                        ages_population_2['observation'], \n",
    "                        ages_population_3['observation']], \n",
    "                        axis=1, keys=['df1', 'df2', 'df3'])\n",
    "sumamry_df.describe()"
   ]
  }
 ],
 "metadata": {
  "kernelspec": {
   "display_name": "ironhack-3.7",
   "language": "python",
   "name": "ironhack-3.7"
  },
  "language_info": {
   "codemirror_mode": {
    "name": "ipython",
    "version": 3
   },
   "file_extension": ".py",
   "mimetype": "text/x-python",
   "name": "python",
   "nbconvert_exporter": "python",
   "pygments_lexer": "ipython3",
   "version": "3.7.3"
  }
 },
 "nbformat": 4,
 "nbformat_minor": 2
}
